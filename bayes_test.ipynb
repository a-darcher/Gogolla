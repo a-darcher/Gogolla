{
 "cells": [
  {
   "cell_type": "code",
   "execution_count": 1,
   "metadata": {},
   "outputs": [],
   "source": [
    "## adapted from https://machinelearningmastery.com/naive-bayes-clasifier-scratch-python/\n",
    "### updated to python 3.7 from v.2\n",
    "## Naive Bayes classification -- currently assumes Gaussian distribution (continuous data)\n",
    "## note: nothing here needs to be modified to include more or fewer test variables, unless moving between continuous/discrete variables\n",
    "import random \n",
    "import csv\n",
    "import math\n",
    "\n",
    "# will only read CSV without headers or quotes\n",
    "def loadCsv(filename):\n",
    "    lines = csv.reader(open(filename, \"r\"))\n",
    "    dataset = list(lines)\n",
    "    for i in range(len(dataset)):\n",
    "        dataset[i] = [float(x) for x in dataset[i]]\n",
    "    return dataset"
   ]
  },
  {
   "cell_type": "code",
   "execution_count": 2,
   "metadata": {},
   "outputs": [],
   "source": [
    "filename = 'bayestest1.csv'\n",
    "dataset = loadCsv(filename)\n",
    "#print('Loaded data file {0} with {1} rows'.format(filename, len(dataset)))\n",
    "#print(dataset)"
   ]
  },
  {
   "cell_type": "code",
   "execution_count": 3,
   "metadata": {},
   "outputs": [],
   "source": [
    "def splitDataset(dataset, splitRatio):\n",
    "    \"\"\"\n",
    "    Randomly splits dataset into training set\n",
    "    and testing set.\n",
    "    Most common split ~60% training, ~30% testing. \n",
    "    \"\"\"\n",
    "    trainSize = int(len(dataset) * splitRatio)\n",
    "    trainSet = []\n",
    "    copy = list(dataset)\n",
    "    while len(trainSet) < trainSize:\n",
    "        index = random.randrange(len(copy)) #randomly selects elements from dataset\n",
    "        trainSet.append(copy.pop(index)) #removes index element from copy, adds it to training set\n",
    "    return [trainSet, copy] #remaining elements in copy act as the test set"
   ]
  },
  {
   "cell_type": "code",
   "execution_count": 4,
   "metadata": {},
   "outputs": [],
   "source": [
    "### Summarize data\n",
    "## Generally: summarizes properties in the training set, and calculates probabilities. \n",
    "\n",
    "\n",
    "def separateByClass(dataset):\n",
    "    '''\n",
    "    Separates the training dataset by class (e.g. open/closed),\n",
    "    so that stats can be determined for each class. \n",
    "    Maps each class value to a list of instances belonging to that class,\n",
    "    and then sorts the entire dataset of instances into appropriate list.\n",
    "    \n",
    "    Note: this code assumes that the last attribute (last .csv column) is the class value. \n",
    "    \n",
    "    Returns: Dict/map of class values to lists of data elements. \n",
    "    '''\n",
    "    separated = {} #empty dictionary/value mapping\n",
    "    for i in range(len(dataset)):\n",
    "        vector = dataset[i]\n",
    "        if (vector[-1] not in separated):\n",
    "            separated[vector[-1]] = []\n",
    "        separated[vector[-1]].append(vector)\n",
    "    return separated"
   ]
  },
  {
   "cell_type": "code",
   "execution_count": 5,
   "metadata": {},
   "outputs": [],
   "source": [
    "def mean(numbers):\n",
    "    \"\"\"\n",
    "    Calculates mean of input. \n",
    "    Used alongside stdev for constructing Gaussian for predictions. \n",
    "    \"\"\"\n",
    "    return sum(numbers)/float(len(numbers))\n",
    "\n",
    "def stdev(numbers):\n",
    "    avg = mean(numbers)\n",
    "    variance = sum([pow(x-avg,2) for x in numbers])/float(len(numbers)-1)\n",
    "    return math.sqrt(variance)"
   ]
  },
  {
   "cell_type": "code",
   "execution_count": 6,
   "metadata": {},
   "outputs": [],
   "source": [
    "def summarize(dataset):\n",
    "    \"\"\"\n",
    "    Summary of mean/stdev for whole dataset.\n",
    "    Used within loop for summary by class function. \n",
    "    \"\"\"\n",
    "    summaries = [(mean(attribute), stdev(attribute)) for attribute in zip(*dataset)]\n",
    "    del summaries[-1]\n",
    "    return summaries \n",
    "\n",
    "def summarizeByClass(dataset):\n",
    "    \"\"\"\n",
    "    Separates dataset by class (open/close) \n",
    "    and performs summary stats within class. \n",
    "    \"\"\"\n",
    "    separated = separateByClass(dataset)\n",
    "    summaries = {}\n",
    "    for classValue, instances in separated.items():\n",
    "        summaries[classValue] = summarize(instances)\n",
    "    return summaries"
   ]
  },
  {
   "cell_type": "code",
   "execution_count": 7,
   "metadata": {},
   "outputs": [],
   "source": [
    "### Predictions\n",
    "## calculating the probability that a given data instance belongs to each class, \n",
    "## and selecting the class with the largest probability as the prediction. \n",
    "\n",
    "def calculateProbability(x, mean, stdev):\n",
    "    \"\"\"\n",
    "    gaussian probability function for a given set of data/mean/stdev. \n",
    "    Conditional probability for a given attribute value given a class (probability of an attribute\n",
    "    belonging to a class).\n",
    "    \"\"\"\n",
    "    exponent = math.exp(-(math.pow(x-mean,2)/(2*math.pow(stdev,2))))\n",
    "    return (1 / (math.sqrt(2*math.pi) * stdev)) * exponent\n",
    "\n",
    "def calculateClassProbabilities(summaries, inputVector):\n",
    "    \"\"\"\n",
    "    Maps probabilities to classes/probability of a data instance belonging to a class. \n",
    "    \"\"\"\n",
    "    probabilities = {}\n",
    "    for classValue, classSummaries in summaries.items():\n",
    "        probabilities[classValue] = 1\n",
    "        for i in range(len(classSummaries)):\n",
    "            mean, stdev = classSummaries[i]\n",
    "            x = inputVector[i]\n",
    "            probabilities[classValue] *= calculateProbability(x, mean, stdev)\n",
    "    return probabilities"
   ]
  },
  {
   "cell_type": "code",
   "execution_count": 8,
   "metadata": {},
   "outputs": [],
   "source": [
    "def predict(summaries, inputVector):\n",
    "    \"\"\"\n",
    "    Compares probabilities of a data instance belonging to a class. \n",
    "    Returns: Most likely class, given data.\n",
    "    \"\"\"\n",
    "    probabilities = calculateClassProbabilities(summaries, inputVector)\n",
    "    bestLabel, bestProb =  None, -1\n",
    "    for classValue, probability in probabilities.items():\n",
    "        if bestLabel is None or probability > bestProb:\n",
    "            bestProb = probability \n",
    "            bestLabel = classValue\n",
    "    return bestLabel\n",
    "\n",
    "def getPredictions(summaries, testSet):\n",
    "    \"\"\"\n",
    "    Takes data split into test set and predicts class for each test instance. \n",
    "    Returns: Predicted classes, respective to data point.\n",
    "    \"\"\"\n",
    "    predictions = []\n",
    "    for i in range(len(testSet)):\n",
    "        result = predict(summaries, testSet[i])\n",
    "        predictions.append(result)\n",
    "    return predictions "
   ]
  },
  {
   "cell_type": "code",
   "execution_count": 9,
   "metadata": {},
   "outputs": [],
   "source": [
    "def getAccuracy(testSet, predictions):\n",
    "    \"\"\"\n",
    "    Compares predicted class to actual class in the test dataset. \n",
    "    Calculates classification accuracy as percentage. \n",
    "    Returns: accuracy ration, as a percentage. \n",
    "    \"\"\"\n",
    "    correct = 0 \n",
    "    for x in range(len(testSet)):\n",
    "        if testSet[x][-1] == predictions[x]:\n",
    "            correct += 1\n",
    "    return (correct/float(len(testSet))) * 100.0"
   ]
  },
  {
   "cell_type": "code",
   "execution_count": 10,
   "metadata": {},
   "outputs": [
    {
     "name": "stdout",
     "output_type": "stream",
     "text": [
      "Split 30831 rows into train=20656 and test=10175 rows\n",
      "Accuracy: 62.11302211302211%\n"
     ]
    }
   ],
   "source": [
    "def main():\n",
    "    \"\"\"\n",
    "    Putting it all together. \n",
    "    \"\"\"\n",
    "    filename = 'bayestest1.csv'\n",
    "    splitRatio = 0.67\n",
    "    dataset = loadCsv(filename)\n",
    "    trainingSet, testSet = splitDataset(dataset, splitRatio)\n",
    "    print('Split {0} rows into train={1} and test={2} rows'.format(len(dataset), len(trainingSet), len(testSet)))\n",
    "    # prepare model\n",
    "    summaries = summarizeByClass(trainingSet)\n",
    "    # test model\n",
    "    predictions = getPredictions(summaries, testSet)\n",
    "    accuracy = getAccuracy(testSet, predictions)\n",
    "    print('Accuracy: {0}%'.format(accuracy))\n",
    " \n",
    "main()"
   ]
  }
 ],
 "metadata": {
  "kernelspec": {
   "display_name": "Python 3",
   "language": "python",
   "name": "python3"
  },
  "language_info": {
   "codemirror_mode": {
    "name": "ipython",
    "version": 3
   },
   "file_extension": ".py",
   "mimetype": "text/x-python",
   "name": "python",
   "nbconvert_exporter": "python",
   "pygments_lexer": "ipython3",
   "version": "3.7.1"
  }
 },
 "nbformat": 4,
 "nbformat_minor": 2
}
